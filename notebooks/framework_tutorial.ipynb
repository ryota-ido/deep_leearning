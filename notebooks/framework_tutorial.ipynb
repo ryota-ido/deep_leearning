{
 "cells": [
  {
   "cell_type": "markdown",
   "metadata": {},
   "source": [
    "# 機械学習フレームワーク チュートリアル\n",
    "\n",
    "このノートブックでは、機械学習フレームワークの基本的な使い方を紹介します。データの前処理から様々なモデルでの学習、評価、交差検証、ハイパーパラメータチューニングまでの一連の流れを説明します。"
   ]
  },
  {
   "cell_type": "markdown",
   "metadata": {},
   "source": [
    "## 1. 初期設定\n",
    "\n",
    "必要なモジュールをインポートします。"
   ]
  },
  {
   "cell_type": "code",
   "execution_count": null,
   "metadata": {},
   "outputs": [],
   "source": [
    "import os\n",
    "import yaml\n",
    "import pandas as pd\n",
    "import numpy as np\n",
    "import matplotlib.pyplot as plt\n",
    "from sklearn.datasets import fetch_california_housing\n",
    "\n",
    "# フレームワークのコンポーネントをインポート\n",
    "from src.data.loader import DataLoader\n",
    "from src.data.base_preprocessor import StandardPreprocessor\n",
    "from src.models.supervised.regression.linear import LinearRegression\n",
    "from src.training.base_trainer import SupervisedTrainer\n",
    "from src.training.cross_validation import CrossValidator\n",
    "from src.training.hyperparameter_tuning import create_tuner\n",
    "from src.utils.logger import setup_logger\n",
    "\n",
    "# ロガーの設定\n",
    "logger = setup_logger(\"tutorial\", \"INFO\")"
   ]
  },
  {
   "cell_type": "markdown",
   "metadata": {},
   "source": [
    "## 2. サンプルデータの準備\n",
    "\n",
    "ボストン住宅価格データセットを使用します。"
   ]
  },
  {
   "cell_type": "code",
   "execution_count": null,
   "metadata": {},
   "outputs": [],
   "source": [
    "# ボストン住宅価格データセットを読み込み\n",
    "boston = load_boston()\n",
    "data = pd.DataFrame(boston.data, columns=boston.feature_names)\n",
    "data[\"target\"] = boston.target\n",
    "\n",
    "# データの先頭を確認\n",
    "data.head()"
   ]
  },
  {
   "cell_type": "markdown",
   "metadata": {},
   "source": [
    "## 3. 設定の準備\n",
    "\n",
    "フレームワークで使用する設定を準備します。"
   ]
  },
  {
   "cell_type": "code",
   "execution_count": null,
   "metadata": {},
   "outputs": [],
   "source": [
    "# 実験用の設定\n",
    "config = {\n",
    "    \"data\": {\"raw_dir\": \"../data/raw\", \"processed_dir\": \"../data/processed\", \"target_col\": \"target\"},\n",
    "    \"preprocessing\": {\"numeric_cols\": list(boston.feature_names), \"categorical_cols\": [], \"drop_cols\": []},\n",
    "    \"training\": {\"random_state\": 42, \"test_size\": 0.2},\n",
    "    \"model\": {\"type\": \"linear_regression\", \"fit_intercept\": True},\n",
    "}"
   ]
  },
  {
   "cell_type": "markdown",
   "metadata": {},
   "source": [
    "## 4. データの分割と前処理\n",
    "\n",
    "データをトレーニングセットとテストセットに分割し、前処理を行います。"
   ]
  },
  {
   "cell_type": "code",
   "execution_count": null,
   "metadata": {},
   "outputs": [],
   "source": [
    "# DataLoaderの初期化\n",
    "data_loader = DataLoader(config)\n",
    "\n",
    "# データの分割\n",
    "X_train, X_test, y_train, y_test = data_loader.split_data(\n",
    "    data,\n",
    "    target_col=\"target\",\n",
    "    test_size=config[\"training\"][\"test_size\"],\n",
    "    random_state=config[\"training\"][\"random_state\"],\n",
    ")\n",
    "\n",
    "print(f\"トレーニングデータのサイズ: {X_train.shape}\")\n",
    "print(f\"テストデータのサイズ: {X_test.shape}\")"
   ]
  },
  {
   "cell_type": "code",
   "execution_count": null,
   "metadata": {},
   "outputs": [],
   "source": [
    "# 前処理\n",
    "preprocessor = StandardPreprocessor(config[\"preprocessing\"])\n",
    "X_train_processed = preprocessor.fit_transform(X_train, y_train)\n",
    "X_test_processed = preprocessor.transform(X_test)\n",
    "\n",
    "# 前処理後のデータを確認\n",
    "X_train_processed.head()"
   ]
  },
  {
   "cell_type": "markdown",
   "metadata": {},
   "source": [
    "## 5. モデルのトレーニングと評価\n",
    "\n",
    "線形回帰モデルを使用して、データをトレーニングします。"
   ]
  },
  {
   "cell_type": "code",
   "execution_count": null,
   "metadata": {},
   "outputs": [],
   "source": [
    "# モデルの初期化\n",
    "model = LinearRegression(config[\"model\"])\n",
    "\n",
    "# トレーナーの初期化\n",
    "trainer = SupervisedTrainer(model, config[\"training\"])\n",
    "\n",
    "# モデルのトレーニング\n",
    "trainer.train(X_train_processed, y_train)\n",
    "\n",
    "# モデルの評価\n",
    "metrics = trainer.evaluate(X_test_processed, y_test)\n",
    "print(\"\\nモデル評価結果:\")\n",
    "for name, value in metrics.items():\n",
    "    print(f\"{name}: {value:.4f}\")"
   ]
  },
  {
   "cell_type": "markdown",
   "metadata": {},
   "source": [
    "## 6. 交差検証の実行\n",
    "\n",
    "モデルの安定性をチェックするために交差検証を行います。"
   ]
  },
  {
   "cell_type": "code",
   "execution_count": null,
   "metadata": {},
   "outputs": [],
   "source": [
    "# 交差検証の設定\n",
    "cv_config = {\"cv_type\": \"kfold\", \"scoring\": \"r2\", \"cv_params\": {\"n_splits\": 5, \"shuffle\": True, \"random_state\": 42}}\n",
    "\n",
    "# 新しいモデルを作成（学習状態をリセット）\n",
    "cv_model = LinearRegression(config[\"model\"])\n",
    "\n",
    "# 交差検証の実行\n",
    "cross_validator = CrossValidator(cv_model, cv_config)\n",
    "cv_results = cross_validator.cross_validate(X_train_processed, y_train)\n",
    "\n",
    "print(\"\\n交差検証結果:\")\n",
    "for name, value in cv_results.items():\n",
    "    if isinstance(value, float):\n",
    "        print(f\"{name}: {value:.4f}\")"
   ]
  },
  {
   "cell_type": "markdown",
   "metadata": {},
   "source": [
    "## 7. 学習曲線の生成\n",
    "\n",
    "学習曲線を生成して、モデルの学習パターンを確認します。"
   ]
  },
  {
   "cell_type": "code",
   "execution_count": null,
   "metadata": {},
   "outputs": [],
   "source": [
    "# 学習曲線の生成\n",
    "learning_curve_results = cross_validator.learning_curve(X_train_processed, y_train, plot=True)"
   ]
  },
  {
   "cell_type": "markdown",
   "metadata": {},
   "source": [
    "## 8. ハイパーパラメータチューニング\n",
    "\n",
    "グリッドサーチを使用してモデルのハイパーパラメータをチューニングします。"
   ]
  },
  {
   "cell_type": "code",
   "execution_count": null,
   "metadata": {},
   "outputs": [],
   "source": [
    "# チューニングの設定\n",
    "tuning_config = {\n",
    "    \"tuner_type\": \"grid\",\n",
    "    \"cv\": 5,\n",
    "    \"scoring\": \"r2\",\n",
    "    \"param_grid\": {\"fit_intercept\": [True, False], \"positive\": [False, True]},\n",
    "}\n",
    "\n",
    "# 新しいモデルを作成\n",
    "tune_model = LinearRegression(config[\"model\"])\n",
    "\n",
    "# チューナーの作成と実行\n",
    "tuner = create_tuner(\"grid\", tune_model, tuning_config)\n",
    "tuning_results = tuner.tune(X_train_processed, y_train)\n",
    "\n",
    "print(\"\\nハイパーパラメータチューニング結果:\")\n",
    "print(f\"最適スコア: {tuning_results['best_score']:.4f}\")\n",
    "print(\"最適パラメータ:\")\n",
    "for name, value in tuning_results[\"best_params\"].items():\n",
    "    print(f\"  {name}: {value}\")"
   ]
  },
  {
   "cell_type": "markdown",
   "metadata": {},
   "source": [
    "## 9. 最適化モデルの評価\n",
    "\n",
    "チューニングで得られた最適なパラメータを使用してモデルを評価します。"
   ]
  },
  {
   "cell_type": "code",
   "execution_count": null,
   "metadata": {},
   "outputs": [],
   "source": [
    "# チューニング済みモデルの評価\n",
    "tuned_trainer = SupervisedTrainer(tuner.model, config[\"training\"])\n",
    "tuned_metrics = tuned_trainer.evaluate(X_test_processed, y_test)\n",
    "\n",
    "print(\"\\n最適化モデルの評価結果:\")\n",
    "for name, value in tuned_metrics.items():\n",
    "    print(f\"{name}: {value:.4f}\")"
   ]
  },
  {
   "cell_type": "markdown",
   "metadata": {},
   "source": [
    "## 10. モデルの保存と読み込み\n",
    "\n",
    "トレーニングしたモデルを保存し、後で読み込めることを確認します。"
   ]
  },
  {
   "cell_type": "code",
   "execution_count": null,
   "metadata": {},
   "outputs": [],
   "source": [
    "# モデルの保存\n",
    "os.makedirs(\"../models/saved\", exist_ok=True)\n",
    "save_path = \"../models/saved/linear_regression_tuned.pkl\"\n",
    "tuned_trainer.save_model(save_path)\n",
    "print(f\"モデルを保存しました: {save_path}\")\n",
    "\n",
    "# モデルの読み込み\n",
    "loaded_model = LinearRegression.load(save_path)\n",
    "loaded_trainer = SupervisedTrainer(loaded_model, config[\"training\"])\n",
    "loaded_metrics = loaded_trainer.evaluate(X_test_processed, y_test)\n",
    "\n",
    "print(\"\\n読み込んだモデルの評価結果:\")\n",
    "for name, value in loaded_metrics.items():\n",
    "    print(f\"{name}: {value:.4f}\")"
   ]
  },
  {
   "cell_type": "markdown",
   "metadata": {},
   "source": [
    "## まとめ\n",
    "\n",
    "このチュートリアルでは、機械学習フレームワークの基本的な使い方を紹介しました。フレームワークを使用すると、データの前処理、モデルのトレーニング、評価、交差検証、ハイパーパラメータチューニングなどを一貫したインターフェースで行うことができます。"
   ]
  }
 ],
 "metadata": {
  "kernelspec": {
   "display_name": "Python 3",
   "language": "python",
   "name": "python3"
  },
  "language_info": {
   "codemirror_mode": {
    "name": "ipython",
    "version": 3
   },
   "file_extension": ".py",
   "mimetype": "text/x-python",
   "name": "python",
   "nbconvert_exporter": "python",
   "pygments_lexer": "ipython3",
   "version": "3.8.5"
  }
 },
 "nbformat": 4,
 "nbformat_minor": 4
}
